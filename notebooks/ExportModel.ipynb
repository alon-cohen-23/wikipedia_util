{
 "cells": [
  {
   "cell_type": "code",
   "execution_count": 2,
   "id": "4570a119",
   "metadata": {},
   "outputs": [],
   "source": [
    "from pathlib import Path\n",
    "import numpy as np\n",
    "import pandas as pd\n",
    "from sklearn.model_selection import train_test_split\n",
    "from sklearn.metrics import f1_score\n",
    "import torch\n",
    "from transformers import NllbTokenizer, AutoModelForSeq2SeqLM, DataCollatorForSeq2Seq, Seq2SeqTrainingArguments, Seq2SeqTrainer\n",
    "from datasets import load_dataset, load_metric, Dataset, DatasetDict, load_from_disk, concatenate_datasets\n",
    "import os\n",
    "\n",
    "OUTPUT_DIRECTORY = os.path.join(os.getcwd(), 'output')"
   ]
  },
  {
   "cell_type": "code",
   "execution_count": 3,
   "id": "da2d2236",
   "metadata": {},
   "outputs": [],
   "source": [
    "src_lang = \"heb_Hebr\"\n",
    "tgt_lang = \"eng_Latn\"\n",
    "\n",
    "model_checkpoint = \"/data2/translator/models/nllb_200_distilled_600M_finetune\" \n",
    "\n",
    "tokenizer = NllbTokenizer.from_pretrained(model_checkpoint, src_lang=src_lang, tgt_lang=tgt_lang)\n",
    "model = AutoModelForSeq2SeqLM.from_pretrained(model_checkpoint)\n",
    "data_collator = DataCollatorForSeq2Seq(tokenizer, model=model)"
   ]
  },
  {
   "cell_type": "code",
   "execution_count": 6,
   "id": "ceb6e9ac",
   "metadata": {},
   "outputs": [],
   "source": [
    "model.save_pretrained(\n",
    "    save_directory=\"/data2/translator/export_model/nllb_200_distilled_600M_finetune/\",\n",
    "    max_shard_size=\"950MB\", \n",
    "    safe_serialization=True\n",
    ")  \n"
   ]
  },
  {
   "cell_type": "code",
   "execution_count": null,
   "id": "20617008",
   "metadata": {},
   "outputs": [],
   "source": []
  }
 ],
 "metadata": {
  "kernelspec": {
   "display_name": "Python 3 (ipykernel)",
   "language": "python",
   "name": "python3"
  },
  "language_info": {
   "codemirror_mode": {
    "name": "ipython",
    "version": 3
   },
   "file_extension": ".py",
   "mimetype": "text/x-python",
   "name": "python",
   "nbconvert_exporter": "python",
   "pygments_lexer": "ipython3",
   "version": "3.11.5"
  }
 },
 "nbformat": 4,
 "nbformat_minor": 5
}
